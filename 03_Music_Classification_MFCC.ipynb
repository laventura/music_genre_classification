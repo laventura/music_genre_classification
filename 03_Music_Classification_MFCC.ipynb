{
 "cells": [
  {
   "cell_type": "markdown",
   "metadata": {},
   "source": [
    "## Music Genre Classification - with MFCC\n",
    "\n",
    "TODO - add readme"
   ]
  },
  {
   "cell_type": "code",
   "execution_count": 1,
   "metadata": {
    "collapsed": false
   },
   "outputs": [
    {
     "name": "stderr",
     "output_type": "stream",
     "text": [
      "/Users/aa/Developer/miniconda/envs/py35/lib/python3.5/site-packages/sklearn/cross_validation.py:44: DeprecationWarning: This module was deprecated in version 0.18 in favor of the model_selection module into which all the refactored classes and functions are moved. Also note that the interface of the new CV iterators are different from that of this module. This module will be removed in 0.20.\n",
      "  \"This module will be removed in 0.20.\", DeprecationWarning)\n"
     ]
    }
   ],
   "source": [
    "%matplotlib inline\n",
    "\n",
    "import warnings\n",
    "warnings.filterwarnings('ignore')\n",
    "\n",
    "import numpy as np\n",
    "import scipy\n",
    "import pandas as pd\n",
    "\n",
    "# signal processing\n",
    "from scipy.io                     import wavfile\n",
    "from scipy                        import stats, signal\n",
    "from scipy.fftpack                import fft\n",
    "\n",
    "from scipy.signal                 import lfilter, hamming\n",
    "from scipy.fftpack.realtransforms import dct\n",
    "\n",
    "# lib for music processing\n",
    "import librosa as lr\n",
    "\n",
    "# general purpose\n",
    "import collections\n",
    "\n",
    "# plotting\n",
    "from   numpy.lib                  import stride_tricks\n",
    "import matplotlib        as mpl\n",
    "import matplotlib.pyplot as plt\n",
    "import seaborn           as sns\n",
    "\n",
    "from IPython.display              import HTML\n",
    "from base64                       import b64encode\n",
    "\n",
    "# Classification and evaluation\n",
    "from sklearn.preprocessing        import StandardScaler\n",
    "from sklearn                      import svm\n",
    "from sklearn.cross_validation     import StratifiedKFold, ShuffleSplit, cross_val_score\n",
    "from sklearn.naive_bayes          import GaussianNB\n",
    "from sklearn.neighbors            import KNeighborsClassifier\n",
    "from sklearn.ensemble             import RandomForestClassifier\n",
    "from sklearn.metrics              import classification_report, confusion_matrix\n",
    "\n",
    "import warnings\n",
    "\n",
    "def fxn():\n",
    "    warnings.warn(\"deprecated\", DeprecationWarning)\n",
    "\n",
    "with warnings.catch_warnings():\n",
    "    warnings.simplefilter(\"ignore\")\n",
    "    fxn()"
   ]
  },
  {
   "cell_type": "code",
   "execution_count": 2,
   "metadata": {
    "collapsed": true
   },
   "outputs": [],
   "source": [
    "import librosa"
   ]
  },
  {
   "cell_type": "code",
   "execution_count": 3,
   "metadata": {
    "collapsed": true
   },
   "outputs": [],
   "source": [
    "# figure size\n",
    "from pylab import rcParams\n",
    "rcParams['figure.figsize'] = 12, 10"
   ]
  },
  {
   "cell_type": "code",
   "execution_count": 4,
   "metadata": {
    "collapsed": false
   },
   "outputs": [
    {
     "name": "stdout",
     "output_type": "stream",
     "text": [
      "Atul Acharya 2016-12-16 \n",
      "\n",
      "CPython 3.5.2\n",
      "IPython 5.0.0\n",
      "\n",
      "librosa 0.4.3\n",
      "sklearn 0.18.1\n",
      "seaborn 0.7.1\n",
      "scipy 0.18.1\n",
      "numpy 1.11.2\n",
      "\n",
      "compiler   : GCC 4.2.1 Compatible Apple LLVM 6.0 (clang-600.0.54)\n",
      "system     : Darwin\n",
      "release    : 15.6.0\n",
      "machine    : x86_64\n",
      "processor  : i386\n",
      "CPU cores  : 8\n",
      "interpreter: 64bit\n"
     ]
    }
   ],
   "source": [
    "%load_ext watermark\n",
    "%watermark -a 'Atul Acharya' -d -m -v -p librosa,sklearn,seaborn,scipy,numpy"
   ]
  },
  {
   "cell_type": "code",
   "execution_count": 5,
   "metadata": {
    "collapsed": true
   },
   "outputs": [],
   "source": [
    "# GZTAN Dataset \n",
    "DATA_DIR = '/Users/aa/Developer/datasets/music_genre/genres'\n",
    "GENRES_DIR = '/Users/aa/Developer/datasets/music_genre/genres'\n",
    "GENRES_LIST = ['blues', 'classical', 'country', 'disco', 'hiphop',\n",
    "                'jazz', 'metal', 'pop', 'rock', 'reggae' ]\n",
    "\n",
    "import os\n",
    "import sys\n",
    "import glob"
   ]
  },
  {
   "cell_type": "code",
   "execution_count": 6,
   "metadata": {
    "collapsed": true
   },
   "outputs": [],
   "source": [
    "# Let's see how many files are there\n",
    "def print_files(genre_list, base_dir=GENRES_DIR, ftype='*.wav'):\n",
    "    for label, genre in enumerate(genre_list):\n",
    "        flist =  glob.glob(os.path.join(base_dir, genre, ftype))\n",
    "        print('dir: {0:10s} ==> #files {1}'.format(genre, len(flist) ))"
   ]
  },
  {
   "cell_type": "code",
   "execution_count": 7,
   "metadata": {
    "collapsed": false
   },
   "outputs": [
    {
     "name": "stdout",
     "output_type": "stream",
     "text": [
      "dir: blues      ==> #files 100\n",
      "dir: classical  ==> #files 100\n",
      "dir: country    ==> #files 100\n",
      "dir: disco      ==> #files 100\n",
      "dir: hiphop     ==> #files 100\n",
      "dir: jazz       ==> #files 100\n",
      "dir: metal      ==> #files 100\n",
      "dir: pop        ==> #files 100\n",
      "dir: rock       ==> #files 100\n",
      "dir: reggae     ==> #files 100\n"
     ]
    }
   ],
   "source": [
    "print_files(GENRES_LIST, GENRES_DIR)"
   ]
  },
  {
   "cell_type": "code",
   "execution_count": 8,
   "metadata": {
    "collapsed": true
   },
   "outputs": [],
   "source": [
    "### Create a MFCC-CEPS dataset\n",
    "\n",
    "def write_mfcc(mfcc_ceps, fname):\n",
    "    ''' Write the MFCC of the given wavefilename\n",
    "    '''\n",
    "    base_fn, ext = os.path.splitext(fname)\n",
    "    data_fn = base_fn + '.mfcc'\n",
    "    np.save(data_fn, mfcc_ceps)\n",
    "    \n",
    "def calc_mfcc_ceps(filename):\n",
    "    ''' Calc MFCC Ceps of the give wavefilename, using librosa\n",
    "    '''\n",
    "    # load the file via librosa\n",
    "    signal, sample_rate = librosa.load(filename)\n",
    "    # extract MFCC; get only the 20 features\n",
    "    mfcc = librosa.feature.mfcc(y=signal, \n",
    "                               sr=sample_rate,\n",
    "                               n_mfcc=20)\n",
    "    # this will be of shape [13 x Num_of_samples ]\n",
    "    # we want to transpose it\n",
    "    mfcc_t = mfcc.T\n",
    "    write_mfcc(mfcc_t, filename)\n"
   ]
  },
  {
   "cell_type": "code",
   "execution_count": 9,
   "metadata": {
    "collapsed": false
   },
   "outputs": [
    {
     "name": "stdout",
     "output_type": "stream",
     "text": [
      "/Users/aa/Developer/datasets/music_genre/genres/rock/rock.00093.au.wav\n"
     ]
    }
   ],
   "source": [
    "sample_file = os.path.join(GENRES_DIR, 'rock', 'rock.00093.au.wav')\n",
    "\n",
    "print(sample_file)"
   ]
  },
  {
   "cell_type": "code",
   "execution_count": 10,
   "metadata": {
    "collapsed": true
   },
   "outputs": [],
   "source": [
    "calc_mfcc_ceps(sample_file)"
   ]
  },
  {
   "cell_type": "code",
   "execution_count": 11,
   "metadata": {
    "collapsed": false
   },
   "outputs": [
    {
     "name": "stdout",
     "output_type": "stream",
     "text": [
      "/Users/aa/Developer/datasets/music_genre/genres/rock/rock.00093.au.mfcc.npy\n",
      "(1293, 20)\n"
     ]
    }
   ],
   "source": [
    "b, e = os.path.splitext(sample_file)\n",
    "m1 = b + '.mfcc.npy'\n",
    "print(m1)\n",
    "t1 = np.load(m1)\n",
    "print(t1.shape)"
   ]
  },
  {
   "cell_type": "code",
   "execution_count": 12,
   "metadata": {
    "collapsed": true
   },
   "outputs": [],
   "source": [
    "# Create an MFCC CEPS dataset -- IGnore this step if dataset already created!!\n",
    "from pyprind import ProgBar\n",
    "\n",
    "def create_ceps_dataset(base_dir):\n",
    "    ''' Create + save cepstral MFCC for all the WAV files in the base_dir\n",
    "    '''\n",
    "    print('Creating MFCC ceps for', base_dir)\n",
    "    for path, dirs, _ in os.walk(base_dir):\n",
    "        print(dirs)\n",
    "        for d in dirs:\n",
    "            glob_wav = os.path.join(path + '/' + d, \"*.wav\")\n",
    "            files = glob.glob(glob_wav)\n",
    "            print('In {0} are {1} wav files'.format(d, len(files)))\n",
    "            progbar = ProgBar(len(files))\n",
    "            for f in files:\n",
    "                calc_mfcc_ceps(f)\n",
    "                progbar.update()"
   ]
  },
  {
   "cell_type": "code",
   "execution_count": 13,
   "metadata": {
    "collapsed": false
   },
   "outputs": [
    {
     "name": "stderr",
     "output_type": "stream",
     "text": [
      "0%                          100%\n",
      "[                              ]"
     ]
    },
    {
     "name": "stdout",
     "output_type": "stream",
     "text": [
      "Creating MFCC ceps for /Users/aa/Developer/datasets/music_genre/genres\n",
      "['blues', 'classical', 'country', 'disco', 'hiphop', 'jazz', 'metal', 'pop', 'reggae', 'rock']\n",
      "In blues are 100 wav files\n"
     ]
    },
    {
     "name": "stderr",
     "output_type": "stream",
     "text": [
      "[##############################] | ETA: 00:00:00\n",
      "Total time elapsed: 00:00:07\n",
      "0%                          100%\n",
      "[                              ]"
     ]
    },
    {
     "name": "stdout",
     "output_type": "stream",
     "text": [
      "In classical are 100 wav files\n"
     ]
    },
    {
     "name": "stderr",
     "output_type": "stream",
     "text": [
      "[##############################] | ETA: 00:00:00\n",
      "Total time elapsed: 00:00:08\n",
      "0%                          100%\n",
      "[                              ]"
     ]
    },
    {
     "name": "stdout",
     "output_type": "stream",
     "text": [
      "In country are 100 wav files\n"
     ]
    },
    {
     "name": "stderr",
     "output_type": "stream",
     "text": [
      "[##############################] | ETA: 00:00:00\n",
      "Total time elapsed: 00:00:08\n",
      "0%                          100%\n",
      "[                              ]"
     ]
    },
    {
     "name": "stdout",
     "output_type": "stream",
     "text": [
      "In disco are 100 wav files\n"
     ]
    },
    {
     "name": "stderr",
     "output_type": "stream",
     "text": [
      "[##############################] | ETA: 00:00:00\n",
      "Total time elapsed: 00:00:08\n",
      "0%                          100%\n",
      "[                              ]"
     ]
    },
    {
     "name": "stdout",
     "output_type": "stream",
     "text": [
      "In hiphop are 100 wav files\n"
     ]
    },
    {
     "name": "stderr",
     "output_type": "stream",
     "text": [
      "[##############################] | ETA: 00:00:00\n",
      "Total time elapsed: 00:00:08\n",
      "0%                          100%\n",
      "[                              ]"
     ]
    },
    {
     "name": "stdout",
     "output_type": "stream",
     "text": [
      "In jazz are 100 wav files\n"
     ]
    },
    {
     "name": "stderr",
     "output_type": "stream",
     "text": [
      "[##############################] | ETA: 00:00:00\n",
      "Total time elapsed: 00:00:08\n",
      "0%                          100%\n",
      "[                              ]"
     ]
    },
    {
     "name": "stdout",
     "output_type": "stream",
     "text": [
      "In metal are 100 wav files\n"
     ]
    },
    {
     "name": "stderr",
     "output_type": "stream",
     "text": [
      "[##############################] | ETA: 00:00:00\n",
      "Total time elapsed: 00:00:08\n",
      "0%                          100%\n",
      "[                              ]"
     ]
    },
    {
     "name": "stdout",
     "output_type": "stream",
     "text": [
      "In pop are 100 wav files\n"
     ]
    },
    {
     "name": "stderr",
     "output_type": "stream",
     "text": [
      "[##############################] | ETA: 00:00:00\n",
      "Total time elapsed: 00:00:08\n",
      "0%                          100%\n",
      "[                              ]"
     ]
    },
    {
     "name": "stdout",
     "output_type": "stream",
     "text": [
      "In reggae are 100 wav files\n"
     ]
    },
    {
     "name": "stderr",
     "output_type": "stream",
     "text": [
      "[##############################] | ETA: 00:00:00\n",
      "Total time elapsed: 00:00:08\n",
      "0%                          100%\n",
      "[                              ]"
     ]
    },
    {
     "name": "stdout",
     "output_type": "stream",
     "text": [
      "In rock are 100 wav files\n"
     ]
    },
    {
     "name": "stderr",
     "output_type": "stream",
     "text": [
      "[##############################] | ETA: 00:00:00"
     ]
    },
    {
     "name": "stdout",
     "output_type": "stream",
     "text": [
      "[]\n",
      "[]\n",
      "[]\n",
      "[]\n",
      "[]\n",
      "[]\n",
      "[]\n",
      "[]\n",
      "[]\n",
      "[]\n"
     ]
    },
    {
     "name": "stderr",
     "output_type": "stream",
     "text": [
      "\n",
      "Total time elapsed: 00:00:08\n"
     ]
    }
   ],
   "source": [
    "create_ceps_dataset(GENRES_DIR)"
   ]
  },
  {
   "cell_type": "code",
   "execution_count": 14,
   "metadata": {
    "collapsed": true
   },
   "outputs": [],
   "source": [
    "## Now read the MFCC CEPS files\n",
    "def read_ceps(genre_list, base_dir=GENRES_DIR):\n",
    "    '''  Read the MFCC Cepstral coefficients for all files in base_dir, and given list of genres\n",
    "        \n",
    "        Returns:\n",
    "        X:  dataset of cepstral coefficients. Shape [13 x Num_of_samples]\n",
    "        Y:  label of the directory (one-hot encoded)\n",
    "    '''\n",
    "    X = []\n",
    "    y = []\n",
    "    for label, genre in enumerate(genre_list):\n",
    "        for fname in glob.glob(os.path.join(base_dir, genre, \"*.mfcc.npy\")):\n",
    "            ceps = np.load(fname)\n",
    "            if np.any(np.isnan(ceps)):\n",
    "                print('!!!! NaN values in', fn)\n",
    "                #print(ceps)\n",
    "                continue\n",
    "            else:\n",
    "                num_ceps = len(ceps)\n",
    "                # dampen the CEPS -- by taking 10% off from beginning and end of track\n",
    "                X.append(\n",
    "                    np.mean(ceps[int(num_ceps / 10):int(num_ceps * 9 / 10)], axis=0))\n",
    "                y.append(label)\n",
    "                \n",
    "    return np.array(X), np.array(y)"
   ]
  },
  {
   "cell_type": "code",
   "execution_count": 15,
   "metadata": {
    "collapsed": true
   },
   "outputs": [],
   "source": [
    "X, y = read_ceps(GENRES_LIST)"
   ]
  },
  {
   "cell_type": "code",
   "execution_count": 16,
   "metadata": {
    "collapsed": false
   },
   "outputs": [
    {
     "name": "stdout",
     "output_type": "stream",
     "text": [
      "(1000, 20)\n",
      "(1000,)\n"
     ]
    }
   ],
   "source": [
    "print(X.shape)\n",
    "print(y.shape)"
   ]
  },
  {
   "cell_type": "code",
   "execution_count": 17,
   "metadata": {
    "collapsed": false
   },
   "outputs": [
    {
     "name": "stdout",
     "output_type": "stream",
     "text": [
      "[[ -1.11997148e+02   1.21238132e+02  -1.77501054e+01 ...,  -1.83897536e-01\n",
      "   -1.66692947e+00   1.81544513e+00]\n",
      " [ -1.99126220e+02   1.24311799e+02   7.81554181e+00 ...,   4.59839435e-02\n",
      "   -2.60645420e-01   3.45716552e-01]\n",
      " [ -8.98784562e+01   1.42878391e+02  -2.96622420e+01 ...,  -2.07295617e+00\n",
      "   -3.28526325e+00  -1.95531306e+00]\n",
      " ..., \n",
      " [ -1.45343071e+02   1.03287670e+02  -1.64123941e+01 ...,   3.40847265e-01\n",
      "    2.60661905e+00   2.54865509e+00]\n",
      " [ -1.35048214e+02   9.36368560e+01   8.60264646e+00 ...,   3.04042890e-01\n",
      "    5.75803510e-01  -1.50165265e-01]\n",
      " [ -6.96691994e+01   8.17856429e+01  -4.24591176e+01 ...,   4.19294482e+00\n",
      "   -1.05298231e+00  -2.99687541e+00]]\n"
     ]
    }
   ],
   "source": [
    "print(X)"
   ]
  },
  {
   "cell_type": "markdown",
   "metadata": {},
   "source": [
    "### Normalize the MFCCs before Fitting the model\n",
    "\n"
   ]
  },
  {
   "cell_type": "code",
   "execution_count": 18,
   "metadata": {
    "collapsed": true
   },
   "outputs": [],
   "source": [
    "##  Do a Train/Test split\n",
    "sp = ShuffleSplit(X.shape[0],   # num of tracks\n",
    "                 n_iter=1,\n",
    "                 test_size=0.25)  # 25% test\n",
    "train_split, test_split = zip(*sp)"
   ]
  },
  {
   "cell_type": "markdown",
   "metadata": {},
   "source": [
    "#### KNN Classifier  test "
   ]
  },
  {
   "cell_type": "code",
   "execution_count": 19,
   "metadata": {
    "collapsed": false
   },
   "outputs": [
    {
     "name": "stdout",
     "output_type": "stream",
     "text": [
      "(750, 20)\n",
      "(250, 20)\n"
     ]
    }
   ],
   "source": [
    "knn_clf = KNeighborsClassifier(n_neighbors=1)\n",
    "\n",
    "X_train, y_train = X[train_split], y[train_split]\n",
    "X_test, y_test   = X[test_split], y[test_split]\n",
    "\n",
    "print(X_train.shape)\n",
    "print(X_test.shape)"
   ]
  },
  {
   "cell_type": "code",
   "execution_count": 20,
   "metadata": {
    "collapsed": false
   },
   "outputs": [],
   "source": [
    "## Scale the data!! \n",
    "\n",
    "from sklearn.preprocessing import StandardScaler\n",
    "\n",
    "stdscaler = StandardScaler()\n",
    "\n",
    "stdscaler.fit(X_train)\n",
    "X_train_std = stdscaler.transform(X_train)\n",
    "X_test_std  = stdscaler.transform(X_test)"
   ]
  },
  {
   "cell_type": "code",
   "execution_count": 21,
   "metadata": {
    "collapsed": false
   },
   "outputs": [],
   "source": [
    "## Train / fit the model\n",
    "tf = knn_clf.fit(X_train_std, y_train)"
   ]
  },
  {
   "cell_type": "code",
   "execution_count": 22,
   "metadata": {
    "collapsed": true
   },
   "outputs": [],
   "source": [
    "train_score = knn_clf.score(X_train_std, y_train)\n",
    "test_score = knn_clf.score(X_test_std, y_test)"
   ]
  },
  {
   "cell_type": "code",
   "execution_count": 23,
   "metadata": {
    "collapsed": false
   },
   "outputs": [
    {
     "name": "stdout",
     "output_type": "stream",
     "text": [
      "0.998666666667\n",
      "0.568\n"
     ]
    }
   ],
   "source": [
    "print(train_score)\n",
    "print(test_score)"
   ]
  },
  {
   "cell_type": "code",
   "execution_count": 24,
   "metadata": {
    "collapsed": false
   },
   "outputs": [
    {
     "name": "stdout",
     "output_type": "stream",
     "text": [
      "[[18  0  1  1  0  0  3  0  1  0]\n",
      " [ 0 22  0  0  0  1  0  0  0  0]\n",
      " [ 1  1 12  2  1  2  0  0  5  2]\n",
      " [ 1  1  2 14  3  0  0  2  5  3]\n",
      " [ 1  0  0  2 11  2  0  0  4  5]\n",
      " [ 0  3  2  0  2 15  0  4  2  1]\n",
      " [ 4  0  0  0  1  0 13  0  2  0]\n",
      " [ 0  0  1  1  2  0  0 11  1  0]\n",
      " [ 2  0  0  3  4  0  1  3 12  0]\n",
      " [ 1  1  1  2  7  0  0  3  2 14]]\n"
     ]
    }
   ],
   "source": [
    "# get predictions -- to print confusion matrix\n",
    "y_pred = knn_clf.predict(X_test_std)\n",
    "cm = confusion_matrix(y_test, y_pred)\n",
    "print(cm)"
   ]
  },
  {
   "cell_type": "code",
   "execution_count": 25,
   "metadata": {
    "collapsed": true
   },
   "outputs": [],
   "source": [
    "## Let's Plot Confusion Matrix\n",
    "## Plot Confusion Matrix\n",
    "def plot_confusion_matrix(cmatrix, genre_list, name, title):\n",
    "    plt.figure(num=None, figsize=(10, 10))\n",
    "    plt.matshow(cmatrix, fignum=False, cmap='Blues', vmin=0, vmax=1.0)\n",
    "    ax = plt.axes()\n",
    "    ax.set_xticks(range(len(genre_list)))\n",
    "    ax.set_xticklabels(genre_list)\n",
    "    ax.xaxis.set_ticks_position('bottom')\n",
    "    \n",
    "    ax.set_yticks(range(len(genre_list)))\n",
    "    ax.set_yticklabels(genre_list)\n",
    "    \n",
    "    plt.title(title)\n",
    "    plt.colorbar()\n",
    "    plt.grid(False)\n",
    "    plt.xlabel('Predicted class')\n",
    "    plt.ylabel('True class')\n",
    "    \n",
    "    plt.show()\n"
   ]
  },
  {
   "cell_type": "code",
   "execution_count": 26,
   "metadata": {
    "collapsed": false
   },
   "outputs": [
    {
     "data": {
      "image/png": "[encoded data removed]",
      "text/plain": [
       "<matplotlib.figure.Figure at 0x112e50048>"
      ]
     },
     "metadata": {},
     "output_type": "display_data"
    }
   ],
   "source": [
    "# Normalize the CM\n",
    "cm_avg = cm   # np.mean(cm, axis=0)\n",
    "cm_norm = cm_avg / np.sum(cm_avg, axis=0)\n",
    "plot_confusion_matrix(cm_norm, GENRES_LIST, 'KNN=1', 'Conf. Matrix of KNN=1 classifier')"
   ]
  },
  {
   "cell_type": "code",
   "execution_count": 27,
   "metadata": {
    "collapsed": false
   },
   "outputs": [
    {
     "name": "stdout",
     "output_type": "stream",
     "text": [
      "Train score 0.998666666667\n",
      "Test score 0.552\n",
      "[[16  0  1  1  0  0  4  1  1  0]\n",
      " [ 0 20  0  0  1  2  0  0  0  0]\n",
      " [ 1  1 12  0  1  3  0  0  6  2]\n",
      " [ 1  1  3 16  2  0  0  1  6  1]\n",
      " [ 1  0  2  2 11  2  0  0  4  3]\n",
      " [ 0  3  2  1  1 16  0  3  2  1]\n",
      " [ 4  0  0  0  1  0 13  0  2  0]\n",
      " [ 0  0  1  1  2  0  0 10  2  0]\n",
      " [ 2  0  1  3  3  0  1  2 12  1]\n",
      " [ 1  1  2  2  7  2  0  2  2 12]]\n"
     ]
    }
   ],
   "source": [
    "## Try another scaler:\n",
    "from sklearn.preprocessing import RobustScaler\n",
    "\n",
    "robust = RobustScaler()\n",
    "X_train_rb = robust.fit_transform(X_train)\n",
    "X_test_rb  = robust.transform(X_test)\n",
    "\n",
    "knn_clf = KNeighborsClassifier(n_neighbors=1)\n",
    "\n",
    "## Train / fit the model\n",
    "tf = knn_clf.fit(X_train_rb, y_train)\n",
    "\n",
    "# score\n",
    "train_score = knn_clf.score(X_train_rb, y_train)\n",
    "test_score = knn_clf.score(X_test_rb, y_test)\n",
    "\n",
    "print('Train score', train_score)\n",
    "print('Test score', test_score)\n",
    "\n",
    "# get predictions -- to print confusion matrix\n",
    "y_pred = knn_clf.predict(X_test_rb)\n",
    "cm = confusion_matrix(y_test, y_pred)\n",
    "print(cm)"
   ]
  },
  {
   "cell_type": "code",
   "execution_count": null,
   "metadata": {
    "collapsed": true
   },
   "outputs": [],
   "source": []
  },
  {
   "cell_type": "code",
   "execution_count": null,
   "metadata": {
    "collapsed": true
   },
   "outputs": [],
   "source": []
  },
  {
   "cell_type": "code",
   "execution_count": 28,
   "metadata": {
    "collapsed": false
   },
   "outputs": [
    {
     "name": "stdout",
     "output_type": "stream",
     "text": [
      "Accuracy: 0.45 (+/- 0.14)\n"
     ]
    }
   ],
   "source": [
    "# Try a cross validation\n",
    "cvfold = StratifiedKFold(y, n_folds=10)\n",
    "\n",
    "scores = cross_val_score(knn_clf, \n",
    "                         X,\n",
    "                         y, \n",
    "                         scoring='accuracy',\n",
    "                         cv=cvfold)\n",
    "print(\"Accuracy: %0.2f (+/- %0.2f)\" % (scores.mean(), scores.std() * 2))"
   ]
  },
  {
   "cell_type": "code",
   "execution_count": 29,
   "metadata": {
    "collapsed": true
   },
   "outputs": [],
   "source": [
    "from sklearn.model_selection import StratifiedKFold"
   ]
  },
  {
   "cell_type": "code",
   "execution_count": 36,
   "metadata": {
    "collapsed": false
   },
   "outputs": [
    {
     "name": "stdout",
     "output_type": "stream",
     "text": [
      "(1000, 20)\n",
      "(1000,)\n",
      "Starting CV...\n",
      "*** Using clf: RandomForestClassifier(bootstrap=True, class_weight=None, criterion='gini',\n",
      "            max_depth=None, max_features='auto', max_leaf_nodes=None,\n",
      "            min_impurity_split=1e-07, min_samples_leaf=1,\n",
      "            min_samples_split=2, min_weight_fraction_leaf=0.0,\n",
      "            n_estimators=10, n_jobs=-1, oob_score=False, random_state=None,\n",
      "            verbose=0, warm_start=False)\n",
      "Score: 0.51\n",
      "--------------------------------------------------------------------------------\n",
      "*** Using clf: GaussianNB(priors=None)\n",
      "Score: 0.43\n",
      "--------------------------------------------------------------------------------\n",
      "*** Using clf: SVC(C=0.3, cache_size=200, class_weight=None, coef0=0.0,\n",
      "  decision_function_shape=None, degree=3, gamma='auto', kernel='linear',\n",
      "  max_iter=-1, probability=False, random_state=None, shrinking=True,\n",
      "  tol=0.001, verbose=False)\n",
      "Score: 0.53\n",
      "--------------------------------------------------------------------------------\n",
      "*** Using clf: KNeighborsClassifier(algorithm='auto', leaf_size=30, metric='minkowski',\n",
      "           metric_params=None, n_jobs=1, n_neighbors=1, p=2,\n",
      "           weights='uniform')\n",
      "Score: 0.55\n",
      "--------------------------------------------------------------------------------\n",
      "*** Using clf: RandomForestClassifier(bootstrap=True, class_weight=None, criterion='gini',\n",
      "            max_depth=None, max_features='auto', max_leaf_nodes=None,\n",
      "            min_impurity_split=1e-07, min_samples_leaf=1,\n",
      "            min_samples_split=2, min_weight_fraction_leaf=0.0,\n",
      "            n_estimators=10, n_jobs=-1, oob_score=False, random_state=None,\n",
      "            verbose=0, warm_start=False)\n",
      "Score: 0.55\n",
      "--------------------------------------------------------------------------------\n",
      "*** Using clf: GaussianNB(priors=None)\n",
      "Score: 0.43\n",
      "--------------------------------------------------------------------------------\n",
      "*** Using clf: SVC(C=0.3, cache_size=200, class_weight=None, coef0=0.0,\n",
      "  decision_function_shape=None, degree=3, gamma='auto', kernel='linear',\n",
      "  max_iter=-1, probability=False, random_state=None, shrinking=True,\n",
      "  tol=0.001, verbose=False)\n",
      "Score: 0.58\n",
      "--------------------------------------------------------------------------------\n",
      "*** Using clf: KNeighborsClassifier(algorithm='auto', leaf_size=30, metric='minkowski',\n",
      "           metric_params=None, n_jobs=1, n_neighbors=1, p=2,\n",
      "           weights='uniform')\n",
      "Score: 0.61\n",
      "--------------------------------------------------------------------------------\n",
      "*** Using clf: RandomForestClassifier(bootstrap=True, class_weight=None, criterion='gini',\n",
      "            max_depth=None, max_features='auto', max_leaf_nodes=None,\n",
      "            min_impurity_split=1e-07, min_samples_leaf=1,\n",
      "            min_samples_split=2, min_weight_fraction_leaf=0.0,\n",
      "            n_estimators=10, n_jobs=-1, oob_score=False, random_state=None,\n",
      "            verbose=0, warm_start=False)\n",
      "Score: 0.46\n",
      "--------------------------------------------------------------------------------\n",
      "*** Using clf: GaussianNB(priors=None)\n",
      "Score: 0.4\n",
      "--------------------------------------------------------------------------------\n",
      "*** Using clf: SVC(C=0.3, cache_size=200, class_weight=None, coef0=0.0,\n",
      "  decision_function_shape=None, degree=3, gamma='auto', kernel='linear',\n",
      "  max_iter=-1, probability=False, random_state=None, shrinking=True,\n",
      "  tol=0.001, verbose=False)\n",
      "Score: 0.5\n",
      "--------------------------------------------------------------------------------\n",
      "*** Using clf: KNeighborsClassifier(algorithm='auto', leaf_size=30, metric='minkowski',\n",
      "           metric_params=None, n_jobs=1, n_neighbors=1, p=2,\n",
      "           weights='uniform')\n",
      "Score: 0.54\n",
      "--------------------------------------------------------------------------------\n",
      "*** Using clf: RandomForestClassifier(bootstrap=True, class_weight=None, criterion='gini',\n",
      "            max_depth=None, max_features='auto', max_leaf_nodes=None,\n",
      "            min_impurity_split=1e-07, min_samples_leaf=1,\n",
      "            min_samples_split=2, min_weight_fraction_leaf=0.0,\n",
      "            n_estimators=10, n_jobs=-1, oob_score=False, random_state=None,\n",
      "            verbose=0, warm_start=False)\n",
      "Score: 0.62\n",
      "--------------------------------------------------------------------------------\n",
      "*** Using clf: GaussianNB(priors=None)\n",
      "Score: 0.49\n",
      "--------------------------------------------------------------------------------\n",
      "*** Using clf: SVC(C=0.3, cache_size=200, class_weight=None, coef0=0.0,\n",
      "  decision_function_shape=None, degree=3, gamma='auto', kernel='linear',\n",
      "  max_iter=-1, probability=False, random_state=None, shrinking=True,\n",
      "  tol=0.001, verbose=False)\n",
      "Score: 0.58\n",
      "--------------------------------------------------------------------------------\n",
      "*** Using clf: KNeighborsClassifier(algorithm='auto', leaf_size=30, metric='minkowski',\n",
      "           metric_params=None, n_jobs=1, n_neighbors=1, p=2,\n",
      "           weights='uniform')\n",
      "Score: 0.56\n",
      "--------------------------------------------------------------------------------\n",
      "*** Using clf: RandomForestClassifier(bootstrap=True, class_weight=None, criterion='gini',\n",
      "            max_depth=None, max_features='auto', max_leaf_nodes=None,\n",
      "            min_impurity_split=1e-07, min_samples_leaf=1,\n",
      "            min_samples_split=2, min_weight_fraction_leaf=0.0,\n",
      "            n_estimators=10, n_jobs=-1, oob_score=False, random_state=None,\n",
      "            verbose=0, warm_start=False)\n",
      "Score: 0.57\n",
      "--------------------------------------------------------------------------------\n",
      "*** Using clf: GaussianNB(priors=None)\n",
      "Score: 0.35\n",
      "--------------------------------------------------------------------------------\n",
      "*** Using clf: SVC(C=0.3, cache_size=200, class_weight=None, coef0=0.0,\n",
      "  decision_function_shape=None, degree=3, gamma='auto', kernel='linear',\n",
      "  max_iter=-1, probability=False, random_state=None, shrinking=True,\n",
      "  tol=0.001, verbose=False)\n",
      "Score: 0.6\n",
      "--------------------------------------------------------------------------------\n",
      "*** Using clf: KNeighborsClassifier(algorithm='auto', leaf_size=30, metric='minkowski',\n",
      "           metric_params=None, n_jobs=1, n_neighbors=1, p=2,\n",
      "           weights='uniform')\n",
      "Score: 0.63\n",
      "--------------------------------------------------------------------------------\n",
      "*** Using clf: RandomForestClassifier(bootstrap=True, class_weight=None, criterion='gini',\n",
      "            max_depth=None, max_features='auto', max_leaf_nodes=None,\n",
      "            min_impurity_split=1e-07, min_samples_leaf=1,\n",
      "            min_samples_split=2, min_weight_fraction_leaf=0.0,\n",
      "            n_estimators=10, n_jobs=-1, oob_score=False, random_state=None,\n",
      "            verbose=0, warm_start=False)\n",
      "Score: 0.53\n",
      "--------------------------------------------------------------------------------\n",
      "*** Using clf: GaussianNB(priors=None)\n",
      "Score: 0.43\n",
      "--------------------------------------------------------------------------------\n",
      "*** Using clf: SVC(C=0.3, cache_size=200, class_weight=None, coef0=0.0,\n",
      "  decision_function_shape=None, degree=3, gamma='auto', kernel='linear',\n",
      "  max_iter=-1, probability=False, random_state=None, shrinking=True,\n",
      "  tol=0.001, verbose=False)\n",
      "Score: 0.55\n",
      "--------------------------------------------------------------------------------\n",
      "*** Using clf: KNeighborsClassifier(algorithm='auto', leaf_size=30, metric='minkowski',\n",
      "           metric_params=None, n_jobs=1, n_neighbors=1, p=2,\n",
      "           weights='uniform')\n",
      "Score: 0.48\n",
      "--------------------------------------------------------------------------------\n",
      "*** Using clf: RandomForestClassifier(bootstrap=True, class_weight=None, criterion='gini',\n",
      "            max_depth=None, max_features='auto', max_leaf_nodes=None,\n",
      "            min_impurity_split=1e-07, min_samples_leaf=1,\n",
      "            min_samples_split=2, min_weight_fraction_leaf=0.0,\n",
      "            n_estimators=10, n_jobs=-1, oob_score=False, random_state=None,\n",
      "            verbose=0, warm_start=False)\n",
      "Score: 0.49\n",
      "--------------------------------------------------------------------------------\n",
      "*** Using clf: GaussianNB(priors=None)\n",
      "Score: 0.42\n",
      "--------------------------------------------------------------------------------\n",
      "*** Using clf: SVC(C=0.3, cache_size=200, class_weight=None, coef0=0.0,\n",
      "  decision_function_shape=None, degree=3, gamma='auto', kernel='linear',\n",
      "  max_iter=-1, probability=False, random_state=None, shrinking=True,\n",
      "  tol=0.001, verbose=False)\n",
      "Score: 0.53\n",
      "--------------------------------------------------------------------------------\n",
      "*** Using clf: KNeighborsClassifier(algorithm='auto', leaf_size=30, metric='minkowski',\n",
      "           metric_params=None, n_jobs=1, n_neighbors=1, p=2,\n",
      "           weights='uniform')\n",
      "Score: 0.56\n",
      "--------------------------------------------------------------------------------\n",
      "*** Using clf: RandomForestClassifier(bootstrap=True, class_weight=None, criterion='gini',\n",
      "            max_depth=None, max_features='auto', max_leaf_nodes=None,\n",
      "            min_impurity_split=1e-07, min_samples_leaf=1,\n",
      "            min_samples_split=2, min_weight_fraction_leaf=0.0,\n",
      "            n_estimators=10, n_jobs=-1, oob_score=False, random_state=None,\n",
      "            verbose=0, warm_start=False)\n",
      "Score: 0.54\n",
      "--------------------------------------------------------------------------------\n",
      "*** Using clf: GaussianNB(priors=None)\n",
      "Score: 0.42\n",
      "--------------------------------------------------------------------------------\n",
      "*** Using clf: SVC(C=0.3, cache_size=200, class_weight=None, coef0=0.0,\n",
      "  decision_function_shape=None, degree=3, gamma='auto', kernel='linear',\n",
      "  max_iter=-1, probability=False, random_state=None, shrinking=True,\n",
      "  tol=0.001, verbose=False)\n",
      "Score: 0.58\n",
      "--------------------------------------------------------------------------------\n",
      "*** Using clf: KNeighborsClassifier(algorithm='auto', leaf_size=30, metric='minkowski',\n",
      "           metric_params=None, n_jobs=1, n_neighbors=1, p=2,\n",
      "           weights='uniform')\n",
      "Score: 0.57\n",
      "--------------------------------------------------------------------------------\n",
      "*** Using clf: RandomForestClassifier(bootstrap=True, class_weight=None, criterion='gini',\n",
      "            max_depth=None, max_features='auto', max_leaf_nodes=None,\n",
      "            min_impurity_split=1e-07, min_samples_leaf=1,\n",
      "            min_samples_split=2, min_weight_fraction_leaf=0.0,\n",
      "            n_estimators=10, n_jobs=-1, oob_score=False, random_state=None,\n",
      "            verbose=0, warm_start=False)\n",
      "Score: 0.54\n",
      "--------------------------------------------------------------------------------\n",
      "*** Using clf: GaussianNB(priors=None)\n",
      "Score: 0.49\n",
      "--------------------------------------------------------------------------------\n",
      "*** Using clf: SVC(C=0.3, cache_size=200, class_weight=None, coef0=0.0,\n",
      "  decision_function_shape=None, degree=3, gamma='auto', kernel='linear',\n",
      "  max_iter=-1, probability=False, random_state=None, shrinking=True,\n",
      "  tol=0.001, verbose=False)\n",
      "Score: 0.68\n",
      "--------------------------------------------------------------------------------\n",
      "*** Using clf: KNeighborsClassifier(algorithm='auto', leaf_size=30, metric='minkowski',\n",
      "           metric_params=None, n_jobs=1, n_neighbors=1, p=2,\n",
      "           weights='uniform')\n",
      "Score: 0.69\n",
      "--------------------------------------------------------------------------------\n",
      "*** Using clf: RandomForestClassifier(bootstrap=True, class_weight=None, criterion='gini',\n",
      "            max_depth=None, max_features='auto', max_leaf_nodes=None,\n",
      "            min_impurity_split=1e-07, min_samples_leaf=1,\n",
      "            min_samples_split=2, min_weight_fraction_leaf=0.0,\n",
      "            n_estimators=10, n_jobs=-1, oob_score=False, random_state=None,\n",
      "            verbose=0, warm_start=False)\n",
      "Score: 0.54\n",
      "--------------------------------------------------------------------------------\n",
      "*** Using clf: GaussianNB(priors=None)\n",
      "Score: 0.35\n",
      "--------------------------------------------------------------------------------\n",
      "*** Using clf: SVC(C=0.3, cache_size=200, class_weight=None, coef0=0.0,\n",
      "  decision_function_shape=None, degree=3, gamma='auto', kernel='linear',\n",
      "  max_iter=-1, probability=False, random_state=None, shrinking=True,\n",
      "  tol=0.001, verbose=False)\n",
      "Score: 0.55\n",
      "--------------------------------------------------------------------------------\n",
      "*** Using clf: KNeighborsClassifier(algorithm='auto', leaf_size=30, metric='minkowski',\n",
      "           metric_params=None, n_jobs=1, n_neighbors=1, p=2,\n",
      "           weights='uniform')\n",
      "Score: 0.52\n",
      "--------------------------------------------------------------------------------\n"
     ]
    }
   ],
   "source": [
    "## Ensemble learning -- run experiments with different classifiers\n",
    "\n",
    "# read dataset again\n",
    "X, y = read_ceps(GENRES_LIST)\n",
    "print(X.shape)\n",
    "print(y.shape)\n",
    "\n",
    "classifiers = {}\n",
    "\n",
    "classifiers[\"GNB\"]        = GaussianNB()\n",
    "classifiers[\"svm_linear\"] = svm.SVC(kernel='linear', C=0.3)\n",
    "classifiers['knn'] = KNeighborsClassifier(n_neighbors=1)\n",
    "classifiers['RF']  = RandomForestClassifier(n_estimators=10,\n",
    "                                           criterion='gini',\n",
    "                                           n_jobs=-1)\n",
    "\n",
    "results = {}\n",
    "\n",
    "print('Starting CV...')\n",
    "from sklearn.model_selection import StratifiedKFold\n",
    "\n",
    "skf = StratifiedKFold(n_splits=10, shuffle=True, random_state=1)\n",
    "\n",
    "for train_ix, test_ix in skf.split(X, y):\n",
    "    X_train, y_train = X[train_ix], y[train_ix]\n",
    "    X_test,  y_test  = X[test_ix],  y[test_ix]\n",
    "    \n",
    "    stdscaler = StandardScaler()\n",
    "    X_train_std = stdscaler.fit_transform(X_train)\n",
    "    X_test_std  = stdscaler.transform(X_test)\n",
    "    \n",
    "    for c_name, clf in classifiers.items():\n",
    "        print('*** Using clf:', clf)\n",
    "        if c_name not in results:\n",
    "            results[c_name] = []\n",
    "        # train the classifier\n",
    "        clf.fit(X_train_std, y_train)\n",
    "        # get score\n",
    "        score = clf.score(X_test_std, y_test)\n",
    "        print('Score:', score)\n",
    "        print('-'*80)\n",
    "        \n",
    "        results[c_name].append(score)\n"
   ]
  },
  {
   "cell_type": "code",
   "execution_count": 37,
   "metadata": {
    "collapsed": false
   },
   "outputs": [
    {
     "name": "stdout",
     "output_type": "stream",
     "text": [
      "{'RF': [0.51000000000000001, 0.55000000000000004, 0.46000000000000002, 0.62, 0.56999999999999995, 0.53000000000000003, 0.48999999999999999, 0.54000000000000004, 0.54000000000000004, 0.54000000000000004], 'GNB': [0.42999999999999999, 0.42999999999999999, 0.40000000000000002, 0.48999999999999999, 0.34999999999999998, 0.42999999999999999, 0.41999999999999998, 0.41999999999999998, 0.48999999999999999, 0.34999999999999998], 'svm_linear': [0.53000000000000003, 0.57999999999999996, 0.5, 0.57999999999999996, 0.59999999999999998, 0.55000000000000004, 0.53000000000000003, 0.57999999999999996, 0.68000000000000005, 0.55000000000000004], 'knn': [0.55000000000000004, 0.60999999999999999, 0.54000000000000004, 0.56000000000000005, 0.63, 0.47999999999999998, 0.56000000000000005, 0.56999999999999995, 0.68999999999999995, 0.52000000000000002]}\n"
     ]
    }
   ],
   "source": [
    "print(results)"
   ]
  },
  {
   "cell_type": "code",
   "execution_count": 38,
   "metadata": {
    "collapsed": false
   },
   "outputs": [
    {
     "data": {
      "text/html": [
       "<div>\n",
       "<table border=\"1\" class=\"dataframe\">\n",
       "  <thead>\n",
       "    <tr style=\"text-align: right;\">\n",
       "      <th></th>\n",
       "      <th>RF</th>\n",
       "      <th>GNB</th>\n",
       "      <th>svm_linear</th>\n",
       "      <th>knn</th>\n",
       "    </tr>\n",
       "  </thead>\n",
       "  <tbody>\n",
       "    <tr>\n",
       "      <th>0</th>\n",
       "      <td>53.5</td>\n",
       "      <td>42.1</td>\n",
       "      <td>56.8</td>\n",
       "      <td>57.1</td>\n",
       "    </tr>\n",
       "    <tr>\n",
       "      <th>1</th>\n",
       "      <td>53.5</td>\n",
       "      <td>42.1</td>\n",
       "      <td>56.8</td>\n",
       "      <td>57.1</td>\n",
       "    </tr>\n",
       "    <tr>\n",
       "      <th>2</th>\n",
       "      <td>53.5</td>\n",
       "      <td>42.1</td>\n",
       "      <td>56.8</td>\n",
       "      <td>57.1</td>\n",
       "    </tr>\n",
       "    <tr>\n",
       "      <th>3</th>\n",
       "      <td>53.5</td>\n",
       "      <td>42.1</td>\n",
       "      <td>56.8</td>\n",
       "      <td>57.1</td>\n",
       "    </tr>\n",
       "    <tr>\n",
       "      <th>4</th>\n",
       "      <td>53.5</td>\n",
       "      <td>42.1</td>\n",
       "      <td>56.8</td>\n",
       "      <td>57.1</td>\n",
       "    </tr>\n",
       "  </tbody>\n",
       "</table>\n",
       "</div>"
      ],
      "text/plain": [
       "     RF   GNB  svm_linear   knn\n",
       "0  53.5  42.1        56.8  57.1\n",
       "1  53.5  42.1        56.8  57.1\n",
       "2  53.5  42.1        56.8  57.1\n",
       "3  53.5  42.1        56.8  57.1\n",
       "4  53.5  42.1        56.8  57.1"
      ]
     },
     "execution_count": 38,
     "metadata": {},
     "output_type": "execute_result"
    }
   ],
   "source": [
    "results_data = []\n",
    "\n",
    "for i in range(5):\n",
    "    rd = []\n",
    "    for cf in classifiers.keys():\n",
    "        vals = results[cf]\n",
    "        rd.append(np.mean(vals) * 100)\n",
    "    \n",
    "    results_data.append(rd)\n",
    "\n",
    "pd.DataFrame(np.asarray(results_data), columns=classifiers.keys())"
   ]
  },
  {
   "cell_type": "markdown",
   "metadata": {},
   "source": [
    "### TODO:  NORMALIZE THE MFCCs!!!"
   ]
  },
  {
   "cell_type": "code",
   "execution_count": null,
   "metadata": {
    "collapsed": true
   },
   "outputs": [],
   "source": []
  }
 ],
 "metadata": {
  "kernelspec": {
   "display_name": "Python 3",
   "language": "python",
   "name": "python3"
  },
  "language_info": {
   "codemirror_mode": {
    "name": "ipython",
    "version": 3
   },
   "file_extension": ".py",
   "mimetype": "text/x-python",
   "name": "python",
   "nbconvert_exporter": "python",
   "pygments_lexer": "ipython3",
   "version": "3.5.2"
  }
 },
 "nbformat": 4,
 "nbformat_minor": 0
}
